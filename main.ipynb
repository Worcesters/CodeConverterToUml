{
 "cells": [
  {
   "cell_type": "code",
   "execution_count": 3,
   "metadata": {},
   "outputs": [
    {
     "ename": "ModuleNotFoundError",
     "evalue": "No module named 'ArbreElement'",
     "output_type": "error",
     "traceback": [
      "\u001b[1;31m---------------------------------------------------------------------------\u001b[0m",
      "\u001b[1;31mModuleNotFoundError\u001b[0m                       Traceback (most recent call last)",
      "Cell \u001b[1;32mIn[3], line 1\u001b[0m\n\u001b[1;32m----> 1\u001b[0m \u001b[38;5;28;01mfrom\u001b[39;00m \u001b[38;5;21;01mParser\u001b[39;00m \u001b[38;5;28;01mimport\u001b[39;00m ParserManager\n\u001b[0;32m      2\u001b[0m \u001b[38;5;28;01mfrom\u001b[39;00m \u001b[38;5;21;01mParser\u001b[39;00m\u001b[38;5;21;01m.\u001b[39;00m\u001b[38;5;21;01mPatternDispatch\u001b[39;00m \u001b[38;5;28;01mimport\u001b[39;00m MethodParser, StructureParser, AttributeParser\n\u001b[0;32m      3\u001b[0m \u001b[38;5;28;01mimport\u001b[39;00m \u001b[38;5;21;01mos\u001b[39;00m\n",
      "File \u001b[1;32md:\\Projet\\CodeConverterToUml\\Parser\\ParserManager.py:1\u001b[0m\n\u001b[1;32m----> 1\u001b[0m \u001b[38;5;28;01mimport\u001b[39;00m \u001b[38;5;21;01mRegistery\u001b[39;00m\n\u001b[0;32m      2\u001b[0m \u001b[38;5;28;01mimport\u001b[39;00m \u001b[38;5;21;01mos\u001b[39;00m\n\u001b[0;32m      3\u001b[0m \u001b[38;5;28;01mimport\u001b[39;00m \u001b[38;5;21;01mtkinter\u001b[39;00m \u001b[38;5;28;01mas\u001b[39;00m \u001b[38;5;21;01mtk\u001b[39;00m\n",
      "File \u001b[1;32md:\\Projet\\CodeConverterToUml\\Registery.py:1\u001b[0m\n\u001b[1;32m----> 1\u001b[0m \u001b[38;5;28;01mfrom\u001b[39;00m \u001b[38;5;21;01mArbre\u001b[39;00m \u001b[38;5;28;01mimport\u001b[39;00m Arbre\n\u001b[0;32m      3\u001b[0m \u001b[38;5;28;01mclass\u001b[39;00m \u001b[38;5;21;01mRegistery\u001b[39;00m(Arbre):\n\u001b[0;32m      4\u001b[0m     \u001b[38;5;28;01mdef\u001b[39;00m \u001b[38;5;21m__init__\u001b[39m(\u001b[38;5;28mself\u001b[39m):\n",
      "File \u001b[1;32md:\\Projet\\CodeConverterToUml\\Arbre\\Arbre.py:1\u001b[0m\n\u001b[1;32m----> 1\u001b[0m \u001b[38;5;28;01mfrom\u001b[39;00m \u001b[38;5;21;01mArbreElement\u001b[39;00m \u001b[38;5;28;01mimport\u001b[39;00m ArbreElement\n\u001b[0;32m      3\u001b[0m \u001b[38;5;28;01mclass\u001b[39;00m \u001b[38;5;21;01mArbre\u001b[39;00m:\n\u001b[0;32m      4\u001b[0m     \u001b[38;5;28;01mdef\u001b[39;00m \u001b[38;5;21m__init__\u001b[39m(\u001b[38;5;28mself\u001b[39m):\n",
      "\u001b[1;31mModuleNotFoundError\u001b[0m: No module named 'ArbreElement'"
     ]
    }
   ],
   "source": [
    "from Parser import ParserManager\n",
    "from Parser.PatternDispatch import MethodParser, StructureParser, AttributeParser\n",
    "import os\n",
    "import tkinter as tk\n",
    "from tkinter import filedialog\n",
    "\n",
    "def main(parser_manager):\n",
    "    parser_list = list(StructureParser, AttributeParser, MethodParser)\n",
    "    parser_manager.add_parsers(parser_list)\n",
    "    print(parser_manager)\n",
    "    exit()\n",
    "    root = tk.Tk()\n",
    "    root.withdraw()\n",
    "    file_paths = filedialog.askopenfilenames(\n",
    "        title=\"Sélectionner les fichiers à convertir en PlantUML\",\n",
    "        filetypes=[(\"Fichiers PHP et Python\", \"*.php;*.py\"), (\"Tous les fichiers\", \"*.*\")]\n",
    "    )\n",
    "    parser_manager.parse_file(file_paths)\n",
    "\n",
    "if __name__ == \"__main__\":\n",
    "    parser_manager = ParserManager()\n",
    "    main(parser_manager)\n",
    "    parser_manager.reset_parsers()\n"
   ]
  }
 ],
 "metadata": {
  "kernelspec": {
   "display_name": ".venv",
   "language": "python",
   "name": "python3"
  },
  "language_info": {
   "codemirror_mode": {
    "name": "ipython",
    "version": 3
   },
   "file_extension": ".py",
   "mimetype": "text/x-python",
   "name": "python",
   "nbconvert_exporter": "python",
   "pygments_lexer": "ipython3",
   "version": "3.10.0"
  }
 },
 "nbformat": 4,
 "nbformat_minor": 2
}
