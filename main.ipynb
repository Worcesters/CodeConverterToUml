{
 "cells": [
  {
   "cell_type": "code",
   "execution_count": null,
   "metadata": {},
   "outputs": [],
   "source": [
    "import ParserManager\n",
    "\n",
    "registry = Registery()\n",
    "registry.initialize_project_with_root(\"ProjectRoot\")\n",
    "\n",
    "def main():\n",
    "    parser_manager = ParserManager()\n",
    "    file_path = \"chemin/vers/le/fichier/source\"\n",
    "    parser_manager.parse_file(file_path)\n",
    "\n",
    "if __name__ == \"__main__\":\n",
    "    main()\n"
   ]
  }
 ],
 "metadata": {
  "language_info": {
   "name": "python"
  }
 },
 "nbformat": 4,
 "nbformat_minor": 2
}
