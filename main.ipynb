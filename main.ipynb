{
 "cells": [
  {
   "cell_type": "code",
   "execution_count": 20,
   "metadata": {},
   "outputs": [],
   "source": [
    "from TreeModule import Tree"
   ]
  },
  {
   "cell_type": "code",
   "execution_count": 27,
   "metadata": {},
   "outputs": [],
   "source": [
    "from ParserModule import ParserManager"
   ]
  },
  {
   "cell_type": "code",
   "execution_count": 9,
   "metadata": {},
   "outputs": [
    {
     "name": "stdout",
     "output_type": "stream",
     "text": [
      "début du script de séléction de fichiers\n",
      "Départ de la boucle de reconnaissance de la prise en charge du language\n",
      "Langue détectée pour D:/Projet/CodeConverterToUml/RegistryFactory.py: Python\n",
      "lancement de la verification du language\n",
      "Une erreur est survenue: from_value\n"
     ]
    },
    {
     "ename": "NotImplementedError",
     "evalue": "Une erreur non spécifiée a été détectée !",
     "output_type": "error",
     "traceback": [
      "\u001b[1;31m---------------------------------------------------------------------------\u001b[0m",
      "\u001b[1;31mAttributeError\u001b[0m                            Traceback (most recent call last)",
      "Cell \u001b[1;32mIn[9], line 37\u001b[0m, in \u001b[0;36mmain\u001b[1;34m()\u001b[0m\n\u001b[0;32m     36\u001b[0m \u001b[38;5;28mprint\u001b[39m(\u001b[38;5;124m'\u001b[39m\u001b[38;5;124mlancement de la verification du language\u001b[39m\u001b[38;5;124m'\u001b[39m)\n\u001b[1;32m---> 37\u001b[0m lang_enum \u001b[38;5;241m=\u001b[39m \u001b[43mLanguage\u001b[49m\u001b[38;5;241;43m.\u001b[39;49m\u001b[43mfrom_value\u001b[49m(detected_language)\n\u001b[0;32m     39\u001b[0m \u001b[38;5;28;01mif\u001b[39;00m lang_enum:\n",
      "File \u001b[1;32m~\\AppData\\Local\\Programs\\Python\\Python310\\lib\\enum.py:429\u001b[0m, in \u001b[0;36mEnumMeta.__getattr__\u001b[1;34m(cls, name)\u001b[0m\n\u001b[0;32m    428\u001b[0m \u001b[38;5;28;01mexcept\u001b[39;00m \u001b[38;5;167;01mKeyError\u001b[39;00m:\n\u001b[1;32m--> 429\u001b[0m     \u001b[38;5;28;01mraise\u001b[39;00m \u001b[38;5;167;01mAttributeError\u001b[39;00m(name) \u001b[38;5;28;01mfrom\u001b[39;00m \u001b[38;5;28;01mNone\u001b[39;00m\n",
      "\u001b[1;31mAttributeError\u001b[0m: from_value",
      "\nDuring handling of the above exception, another exception occurred:\n",
      "\u001b[1;31mNotImplementedError\u001b[0m                       Traceback (most recent call last)",
      "Cell \u001b[1;32mIn[9], line 58\u001b[0m\n\u001b[0;32m     54\u001b[0m         \u001b[38;5;28;01mraise\u001b[39;00m \u001b[38;5;167;01mNotImplementedError\u001b[39;00m(\u001b[38;5;124m\"\u001b[39m\u001b[38;5;124mUne erreur non spécifiée a été détectée !\u001b[39m\u001b[38;5;124m\"\u001b[39m)\n\u001b[0;32m     57\u001b[0m \u001b[38;5;28;01mif\u001b[39;00m \u001b[38;5;18m__name__\u001b[39m \u001b[38;5;241m==\u001b[39m \u001b[38;5;124m\"\u001b[39m\u001b[38;5;124m__main__\u001b[39m\u001b[38;5;124m\"\u001b[39m:\n\u001b[1;32m---> 58\u001b[0m     \u001b[43mmain\u001b[49m\u001b[43m(\u001b[49m\u001b[43m)\u001b[49m\n",
      "Cell \u001b[1;32mIn[9], line 54\u001b[0m, in \u001b[0;36mmain\u001b[1;34m()\u001b[0m\n\u001b[0;32m     52\u001b[0m \u001b[38;5;28mprint\u001b[39m(\u001b[38;5;124mf\u001b[39m\u001b[38;5;124m\"\u001b[39m\u001b[38;5;124mUne erreur est survenue: \u001b[39m\u001b[38;5;132;01m{\u001b[39;00me\u001b[38;5;132;01m}\u001b[39;00m\u001b[38;5;124m\"\u001b[39m)\n\u001b[0;32m     53\u001b[0m \u001b[38;5;66;03m# Consignation de l'erreur \u001b[39;00m\n\u001b[1;32m---> 54\u001b[0m \u001b[38;5;28;01mraise\u001b[39;00m \u001b[38;5;167;01mNotImplementedError\u001b[39;00m(\u001b[38;5;124m\"\u001b[39m\u001b[38;5;124mUne erreur non spécifiée a été détectée !\u001b[39m\u001b[38;5;124m\"\u001b[39m)\n",
      "\u001b[1;31mNotImplementedError\u001b[0m: Une erreur non spécifiée a été détectée !"
     ]
    }
   ],
   "source": [
    "from ParserModule.ParserManager import ParserManager\n",
    "from ParserModule.Parser.ParseDispatcher import ParseDispatcher\n",
    "from ParserModule.Parser import MethodParser, StructureParser, AttributeParser\n",
    "from Definition.Language import Language\n",
    "import os\n",
    "import tkinter as tk\n",
    "from tkinter import filedialog\n",
    "\n",
    "def detect_language(file_path):\n",
    "    file_extension = os.path.splitext(file_path)[1].lower()\n",
    "    if file_extension == '.py':\n",
    "        return 'Python'\n",
    "    elif file_extension == '.php':\n",
    "        return 'PHP'\n",
    "    elif file_extension == '.java':\n",
    "        return 'Java'\n",
    "    else:\n",
    "        return None\n",
    "\n",
    "def main():\n",
    "    try: \n",
    "        print('début du script de séléction de fichiers')\n",
    "        root = tk.Tk()\n",
    "        root.withdraw()\n",
    "        file_paths = filedialog.askopenfilenames(\n",
    "            title=\"Sélectionner les fichiers à convertir en PlantUML\",\n",
    "            filetypes=[(\"Fichiers PHP, Python et Java\", \"*.php;*.py;*.java\"), (\"Tous les fichiers\", \"*.*\")]\n",
    "        )\n",
    "\n",
    "        print('Départ de la boucle de reconnaissance de la prise en charge du language')\n",
    "        for file_path in file_paths:\n",
    "            detected_language = detect_language(file_path)\n",
    "            if detected_language:\n",
    "                print(f\"Langue détectée pour {file_path}: {detected_language}\")\n",
    "\n",
    "                print('lancement de la verification du language')\n",
    "                lang_enum = Language.from_value(detected_language)\n",
    "                \n",
    "                if lang_enum:\n",
    "                    dispatcher = ParseDispatcher(lang_enum)\n",
    "                    parser_manager = ParserManager(dispatcher)\n",
    "                    print('ParseManager à bien été initialisé')\n",
    "                    print('Début du Parsage fichier(s)')\n",
    "                    parser_manager.parse_files([file_path])\n",
    "                    \n",
    "                else:\n",
    "                    print(f\"Langue non prise en charge : {detected_language}\")\n",
    "            else:\n",
    "                print(f\"Langue non détectée pour le fichier : {file_path}\")\n",
    "\n",
    "    except Exception as e:\n",
    "        print(f\"Une erreur est survenue: {e}\")\n",
    "        # Consignation de l'erreur \n",
    "        raise NotImplementedError(\"Une erreur non spécifiée a été détectée !\")\n",
    "    \n",
    "\n",
    "if __name__ == \"__main__\":\n",
    "    main()\n"
   ]
  }
 ],
 "metadata": {
  "kernelspec": {
   "display_name": ".venv",
   "language": "python",
   "name": "python3"
  },
  "language_info": {
   "codemirror_mode": {
    "name": "ipython",
    "version": 3
   },
   "file_extension": ".py",
   "mimetype": "text/x-python",
   "name": "python",
   "nbconvert_exporter": "python",
   "pygments_lexer": "ipython3",
   "version": "3.10.0"
  }
 },
 "nbformat": 4,
 "nbformat_minor": 2
}
