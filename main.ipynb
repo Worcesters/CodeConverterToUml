{
 "cells": [
  {
   "cell_type": "code",
   "execution_count": 20,
   "metadata": {},
   "outputs": [],
   "source": [
    "from TreeModule import Tree"
   ]
  },
  {
   "cell_type": "code",
   "execution_count": 27,
   "metadata": {},
   "outputs": [],
   "source": [
    "from ParserModule import ParserManager"
   ]
  },
  {
   "cell_type": "code",
   "execution_count": 1,
   "metadata": {},
   "outputs": [],
   "source": [
    "from ParserModule.ParserManager import ParserManager\n",
    "from ParserModule.Parser.ParseDispatcher import ParseDispatcher\n",
    "from ParserModule.Parser import MethodParser, StructureParser, AttributeParser\n",
    "from Definition.Language import Language\n",
    "import os\n",
    "import tkinter as tk\n",
    "from tkinter import filedialog\n",
    "\n",
    "def detect_language(file_path):\n",
    "    file_extension = os.path.splitext(file_path)[1].lower()\n",
    "    if file_extension == '.py':\n",
    "        return 'Python'\n",
    "    elif file_extension == '.php':\n",
    "        return 'PHP'\n",
    "    elif file_extension == '.java':\n",
    "        return 'Java'\n",
    "    else:\n",
    "        return None\n",
    "\n",
    "def main():\n",
    "    try: \n",
    "        print('début du script de séléction de fichiers')\n",
    "        root = tk.Tk()\n",
    "        root.withdraw()\n",
    "        file_paths = filedialog.askopenfilenames(\n",
    "            title=\"Sélectionner les fichiers à convertir en PlantUML\",\n",
    "            filetypes=[(\"Fichiers PHP, Python et Java\", \"*.php;*.py;*.java\"), (\"Tous les fichiers\", \"*.*\")]\n",
    "        )\n",
    "\n",
    "        print('Départ de la boucle de reconnaissance de la prise en charge du language')\n",
    "        for file_path in file_paths:\n",
    "            detected_language = detect_language(file_path)\n",
    "            if detected_language:\n",
    "                print(f\"Langue détectée pour {file_path}: {detected_language}\")\n",
    "\n",
    "                lang_enum = getattr(Language, detected_language, None)\n",
    "                if lang_enum:\n",
    "                    dispatcher = ParseDispatcher(lang_enum)\n",
    "                    parser_manager = ParserManager(dispatcher)\n",
    "                    print('ParseManager à bien été initialisé')\n",
    "                    print('Début du Parsage fichier(s)')\n",
    "                    parser_manager.parse_files([file_path])\n",
    "                    \n",
    "                else:\n",
    "                    print(f\"Langue non prise en charge : {detected_language}\")\n",
    "            else:\n",
    "                print(f\"Langue non détectée pour le fichier : {file_path}\")\n",
    "\n",
    "    except Exception as e:\n",
    "        print(f\"Une erreur est survenue: {e}\")\n",
    "        # Consignation de l'erreur \n",
    "        raise NotImplementedError(\"Une erreur non spécifiée a été détectée !\")\n",
    "    \n",
    "\n",
    "if __name__ == \"__main__\":\n",
    "    main()\n"
   ]
  }
 ],
 "metadata": {
  "kernelspec": {
   "display_name": ".venv",
   "language": "python",
   "name": "python3"
  },
  "language_info": {
   "codemirror_mode": {
    "name": "ipython",
    "version": 3
   },
   "file_extension": ".py",
   "mimetype": "text/x-python",
   "name": "python",
   "nbconvert_exporter": "python",
   "pygments_lexer": "ipython3",
   "version": "3.10.0"
  }
 },
 "nbformat": 4,
 "nbformat_minor": 2
}
