{
 "cells": [
  {
   "cell_type": "code",
   "execution_count": null,
   "metadata": {},
   "outputs": [],
   "source": [
    "ProjectRoot/\n",
    "│\n",
    "├── Parser/\n",
    "│   ├── __init__.py\n",
    "│   ├── Interface.py             # Définit l'interface ParserInterface\n",
    "│   ├── AttributeParser.py       # Classe de base ou interface pour AttributeParser\n",
    "│   ├── MethodParser.py          # Classe de base ou interface pour MethodParser\n",
    "│   ├── StructureParser.py       # Classe de base ou interface pour StructureParser\n",
    "│   └── PHP_Parser/\n",
    "│       ├── __init__.py\n",
    "│       ├── MethodParser.py      # Implémente MethodParser pour PHP\n",
    "│       ├── AttributeParser.py   # Implémente AttributeParser pour PHP\n",
    "│       └── StructureParser.py   # Implémente StructureParser pour PHP\n",
    "└── main.py     "
   ]
  },
  {
   "cell_type": "code",
   "execution_count": 2,
   "metadata": {},
   "outputs": [
    {
     "name": "stdout",
     "output_type": "stream",
     "text": [
      "('C:/Users/jdidier/Documents/univers-orange/univers_api/univers/php/include/ko/KoProcessor.php',)\n",
      "parser set\n",
      "<ParserModule.ParserManager.ParserManager object at 0x0000017B942F8F90>\n"
     ]
    },
    {
     "ename": "AttributeError",
     "evalue": "module 'ParserModule.Parser.StructureParser' has no attribute 'parse'",
     "output_type": "error",
     "traceback": [
      "\u001b[1;31m---------------------------------------------------------------------------\u001b[0m",
      "\u001b[1;31mAttributeError\u001b[0m                            Traceback (most recent call last)",
      "Cell \u001b[1;32mIn[2], line 23\u001b[0m\n\u001b[0;32m     21\u001b[0m parser_manager \u001b[38;5;241m=\u001b[39m ParserManager()\n\u001b[0;32m     22\u001b[0m main(parser_manager)\n\u001b[1;32m---> 23\u001b[0m \u001b[43mparser_manager\u001b[49m\u001b[38;5;241;43m.\u001b[39;49m\u001b[43mparse_file\u001b[49m\u001b[43m(\u001b[49m\u001b[43mfile_paths\u001b[49m\u001b[43m)\u001b[49m\n\u001b[0;32m     24\u001b[0m parser_manager\u001b[38;5;241m.\u001b[39mreset_parsers()\n",
      "File \u001b[1;32mc:\\Users\\jdidier\\Documents\\Projet\\ConverterCodeToUml\\ParserModule\\ParserManager.py:23\u001b[0m, in \u001b[0;36mParserManager.parse_file\u001b[1;34m(self, file_paths)\u001b[0m\n\u001b[0;32m     21\u001b[0m \u001b[38;5;28;01mfor\u001b[39;00m line \u001b[38;5;129;01min\u001b[39;00m code\u001b[38;5;241m.\u001b[39msplit(\u001b[38;5;124m'\u001b[39m\u001b[38;5;130;01m\\n\u001b[39;00m\u001b[38;5;124m'\u001b[39m):\n\u001b[0;32m     22\u001b[0m     \u001b[38;5;28;01mfor\u001b[39;00m parser \u001b[38;5;129;01min\u001b[39;00m \u001b[38;5;28mself\u001b[39m\u001b[38;5;241m.\u001b[39mparsers:\n\u001b[1;32m---> 23\u001b[0m         \u001b[43mparser\u001b[49m\u001b[38;5;241;43m.\u001b[39;49m\u001b[43mparse\u001b[49m(line)\n",
      "\u001b[1;31mAttributeError\u001b[0m: module 'ParserModule.Parser.StructureParser' has no attribute 'parse'"
     ]
    }
   ],
   "source": [
    "from ParserModule.ParserManager import ParserManager\n",
    "from ParserModule.Parser import MethodParser, StructureParser, AttributeParser\n",
    "from ParseDispatcher import ParseDispatcher, Language\n",
    "import tkinter as tk\n",
    "from tkinter import filedialog\n",
    "import os\n",
    "\n",
    "def get_language_from_extension(file_path):\n",
    "    _, ext = os.path.splitext(file_path)\n",
    "    if ext.lower() == '.php':\n",
    "        return Language.PHP\n",
    "    elif ext.lower() == '.py':\n",
    "        return Language.PYTHON\n",
    "    # Ajouter d'autres extensions/langages si nécessaire\n",
    "    else:\n",
    "        raise ValueError(f\"Langage non pris en charge pour l'extension {ext}\")\n",
    "\n",
    "def main(parser_manager, file_paths):\n",
    "    parser_list = [StructureParser(), AttributeParser(), MethodParser()]\n",
    "    parser_manager.set_parser(parser_list)\n",
    "    print('parser set')\n",
    "    print(parser_manager)\n",
    "\n",
    "    parser_manager.parse_file(file_paths)\n",
    "    parser_manager.reset_parsers()\n",
    "\n",
    "if __name__ == \"__main__\":\n",
    "    root = tk.Tk()\n",
    "    root.withdraw()\n",
    "    file_paths = filedialog.askopenfilenames(\n",
    "        title=\"Sélectionner les fichiers à convertir en PlantUML\",\n",
    "        filetypes=[(\"Fichiers PHP et Python\", \"*.php;*.py\"), (\"Tous les fichiers\", \"*.*\")]\n",
    "    )\n",
    "\n",
    "    if file_paths:\n",
    "        language = get_language_from_extension(file_paths[0])\n",
    "        dispatcher = ParseDispatcher(language)\n",
    "        parser_manager = ParserManager(dispatcher)\n",
    "        main(parser_manager, file_paths)\n",
    "    else:\n",
    "        print(\"Aucun fichier sélectionné.\")\n"
   ]
  },
  {
   "cell_type": "code",
   "execution_count": 1,
   "metadata": {},
   "outputs": [],
   "source": [
    "import tkinter as tk\n",
    "from tkinter import filedialog\n",
    "if __name__ == '__main__':\n",
    "    root = tk.Tk()\n",
    "    root.withdraw()\n",
    "    file_paths = filedialog.askopenfilenames(\n",
    "        title=\"Sélectionner les fichiers à convertir en PlantUML\",\n",
    "        filetypes=[(\"Fichiers PHP et Python\", \"*.php;*.py\"), (\"Tous les fichiers\", \"*.*\")]\n",
    "    )"
   ]
  }
 ],
 "metadata": {
  "kernelspec": {
   "display_name": ".venv",
   "language": "python",
   "name": "python3"
  },
  "language_info": {
   "codemirror_mode": {
    "name": "ipython",
    "version": 3
   },
   "file_extension": ".py",
   "mimetype": "text/x-python",
   "name": "python",
   "nbconvert_exporter": "python",
   "pygments_lexer": "ipython3",
   "version": "3.11.7"
  }
 },
 "nbformat": 4,
 "nbformat_minor": 2
}
