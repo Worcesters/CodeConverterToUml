{
 "cells": [
  {
   "cell_type": "markdown",
   "metadata": {},
   "source": [
    "Repository Git"
   ]
  },
  {
   "cell_type": "raw",
   "metadata": {},
   "source": [
    "DjangoPackage/\n",
    "    KoPackage/\n",
    "    │    └── setup.py\n",
    "    │\n",
    "    UserPackage/\n",
    "        └── setup.py"
   ]
  },
  {
   "cell_type": "markdown",
   "metadata": {},
   "source": [
    "## Création de tags ##"
   ]
  },
  {
   "cell_type": "markdown",
   "metadata": {},
   "source": [
    "Crée des tags spécifiques pour chaque Package afin de pouvoir gerrer leurs installations independament dans un projet"
   ]
  },
  {
   "cell_type": "markdown",
   "metadata": {},
   "source": [
    "Se placer dans le dossier du package en question..\n",
    "- ici dans DjangoPackage/KoPackage"
   ]
  },
  {
   "cell_type": "code",
   "execution_count": null,
   "metadata": {
    "vscode": {
     "languageId": "plaintext"
    }
   },
   "outputs": [],
   "source": [
    "git tag -a <nouveau_nom_du_tag> -m \"Message du nouveau tag\"\n",
    "\n",
    "git tag -a Ko -m \"Version 1.0 for KoPackage\"\n",
    "git push origin Ko"
   ]
  },
  {
   "cell_type": "markdown",
   "metadata": {},
   "source": [
    "## Supprimer un tag existant ##"
   ]
  },
  {
   "cell_type": "code",
   "execution_count": null,
   "metadata": {
    "vscode": {
     "languageId": "plaintext"
    }
   },
   "outputs": [],
   "source": [
    "git tag -d <nom_du_tag>"
   ]
  },
  {
   "cell_type": "markdown",
   "metadata": {},
   "source": [
    "## Pour installer dans le projet utilisé le tag ##"
   ]
  },
  {
   "cell_type": "code",
   "execution_count": null,
   "metadata": {
    "vscode": {
     "languageId": "plaintext"
    }
   },
   "outputs": [],
   "source": [
    "pip install \"git+https://github.com/Worcesters/DjangoPackage.git@main#egg=KoPackage&subdirectory=KoPackage/\""
   ]
  }
 ],
 "metadata": {
  "language_info": {
   "name": "python"
  }
 },
 "nbformat": 4,
 "nbformat_minor": 2
}
